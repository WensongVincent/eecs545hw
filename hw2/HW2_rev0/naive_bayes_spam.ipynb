{
 "cells": [
  {
   "cell_type": "markdown",
   "id": "5e5aeee1-2103-4fb5-a2f2-84991484968b",
   "metadata": {},
   "source": [
    "# EECS 545 (WN 2024) Homework 2 Q4: Naive Bayes for Classifying SPAM\n",
    "\n",
    "<span class=\"instruction\">Before starting the assignment, please fill in the following cell.</span>"
   ]
  },
  {
   "cell_type": "code",
   "execution_count": 90,
   "id": "081da19b-850d-4bb0-9bde-c4344f48ffcb",
   "metadata": {},
   "outputs": [
    {
     "name": "stdout",
     "output_type": "stream",
     "text": [
      "Your name and email: Wensong Hu <umhws@umich.edu>\n"
     ]
    }
   ],
   "source": [
    "###################################################################\n",
    "# Enter your first and last name, e.g. \"John Doe\"                 #\n",
    "# for example                                                     #\n",
    "# __NAME__ = \"Yunseok Jang\"                                       #\n",
    "# __UNIQID__ = \"yunseokj\"                                         #\n",
    "###################################################################\n",
    "# raise NotImplementedError(\"TODO: Add your implementation here.\")\n",
    "__NAME__ = \"Wensong Hu\"                                       \n",
    "__UNIQID__ = \"umhws\" \n",
    "###################################################################\n",
    "#                        END OF YOUR CODE                         #\n",
    "###################################################################\n",
    "\n",
    "print(f\"Your name and email: {__NAME__} <{__UNIQID__}@umich.edu>\")\n",
    "assert __NAME__ and __UNIQID__"
   ]
  },
  {
   "cell_type": "markdown",
   "id": "ecc5b473-5ec6-466d-a466-b0b077a8f3cc",
   "metadata": {},
   "source": [
    "# Naive Bayes for Classifying SPAM\n",
    "\n",
    "In this notebook, you will implement a naive Bayes classifier that can filter out SPAM emails. Before starting implementation, we recommend to review the lecture slides first.\n",
    "\n",
    "After implementing the naive Bayes classifier, you will report top 5 most indicative tokens, a set of accuracy with trained weights, and a plot in your writeup."
   ]
  },
  {
   "cell_type": "markdown",
   "id": "00a2e071-6a48-44de-9012-d2e8b3cfe8b0",
   "metadata": {},
   "source": [
    "## Setup code\n",
    "Before getting started, we need to run some boilerplate code to set up our environment. You'll need to rerun this setup code each time you start the notebook. Let's start by checking whether we are using Python 3.11 or higher."
   ]
  },
  {
   "cell_type": "code",
   "execution_count": 91,
   "id": "576686e1-802c-422c-8bf1-203d45b94667",
   "metadata": {},
   "outputs": [
    {
     "name": "stdout",
     "output_type": "stream",
     "text": [
      "You are good to go\n"
     ]
    }
   ],
   "source": [
    "import sys\n",
    "if sys.version_info[0] < 3:\n",
    "    raise Exception(\"You must use Python 3\")\n",
    "\n",
    "if sys.version_info[1] < 11:\n",
    "    print(\"Autograder will execute your code based on Python 3.11 environment. Please use Python 3.11 or higher to prevent any issues\")\n",
    "    print(\"You can create a conda environment with Python 3.11 like 'conda create --name eecs545 python=3.11'\")\n",
    "    raise Exception(\"Python 3 version is too low: {}\".format(sys.version))\n",
    "else:\n",
    "    print(\"You are good to go\")"
   ]
  },
  {
   "cell_type": "markdown",
   "id": "a2f7473e-f6f6-4103-a2db-6f6bac0a118e",
   "metadata": {},
   "source": [
    "First, run this cell load the [autoreload](https://ipython.readthedocs.io/en/stable/config/extensions/autoreload.html) extension. This allows us to edit `.py` source files, and re-import them into the notebook for a seamless editing and debugging experience."
   ]
  },
  {
   "cell_type": "code",
   "execution_count": 92,
   "id": "4dfbe411-7f01-4bd1-96de-f84a51ce9ada",
   "metadata": {},
   "outputs": [
    {
     "name": "stdout",
     "output_type": "stream",
     "text": [
      "The autoreload extension is already loaded. To reload it, use:\n",
      "  %reload_ext autoreload\n"
     ]
    }
   ],
   "source": [
    "%load_ext autoreload\n",
    "%autoreload 2"
   ]
  },
  {
   "cell_type": "markdown",
   "id": "5f00f238-ee5a-44aa-95b2-3d611aa43035",
   "metadata": {},
   "source": [
    "Once you located the `naive_bayes_spam.py` correctly, run the following cell allow us to import from `naive_bayes_spam.py`. If it works correctly, it should print the message:\n",
    "```Hello from naive_bayes_spam.py```"
   ]
  },
  {
   "cell_type": "code",
   "execution_count": 93,
   "id": "dfe48494-bfcf-4cd6-ab99-5683563d0b71",
   "metadata": {},
   "outputs": [
    {
     "name": "stdout",
     "output_type": "stream",
     "text": [
      "Hello from naive_bayes_spam.py\n"
     ]
    }
   ],
   "source": [
    "from naive_bayes_spam import hello\n",
    "hello()"
   ]
  },
  {
   "cell_type": "markdown",
   "id": "2097b152-ed0d-4389-b9e6-4df4c50d5741",
   "metadata": {},
   "source": [
    "Then, we run some setup code for this notebook: Import some useful packages and increase the default figure size."
   ]
  },
  {
   "cell_type": "code",
   "execution_count": 94,
   "id": "b6662d2f-3952-4643-9dfb-10f08e79105b",
   "metadata": {},
   "outputs": [],
   "source": [
    "# install required libraries\n",
    "# !pip install numpy==1.24.1 matplotlib==3.6.2 \n",
    "\n",
    "# import libraries\n",
    "import math\n",
    "import numpy as np\n",
    "import matplotlib.pyplot as plt\n",
    "\n",
    "# set figure size\n",
    "plt.rcParams['figure.figsize'] = (10.0, 8.0)\n",
    "plt.rcParams['font.size'] = 16"
   ]
  },
  {
   "cell_type": "code",
   "execution_count": 95,
   "id": "0e338014-70de-4629-8ece-6f825dc606ae",
   "metadata": {},
   "outputs": [
    {
     "data": {
      "text/html": [
       "\n",
       "<style type=\"text/css\">\n",
       "  .instruction { background-color: yellow; font-weight:bold; padding: 3px; }\n",
       "</style>\n"
      ]
     },
     "metadata": {},
     "output_type": "display_data"
    }
   ],
   "source": [
    "from IPython.display import display_html, HTML\n",
    "\n",
    "display_html(HTML('''\n",
    "<style type=\"text/css\">\n",
    "  .instruction { background-color: yellow; font-weight:bold; padding: 3px; }\n",
    "</style>\n",
    "'''));"
   ]
  },
  {
   "cell_type": "markdown",
   "id": "cb67a55b-7773-46b7-8d27-3694ecb8c655",
   "metadata": {},
   "source": [
    "## Data loader\n",
    "\n",
    "In our data, the text emails have been pre-processed so that they can be used for naive Bayes. The pre-processing ensures that only the email body and subject remain in the dataset; email addresses (EMAILADDR), web addresses (HTTPADDR), currency (DOLLAR) and numbers (NUMBER) were also replaced by special tokens to allow them to be considered properly in the classiﬁcation process. If you are interested in the pre-processing, two examples for spam emails and their pre-processed forms and one example for a non-spam email and its pre-processed form are in the folder *samples\\_FYI*.\n",
    "\n",
    "We have done the feature extraction for you, so you can just load the data matrices (called document-term matrices in text classiﬁcation) which contain all the data. In a document-term matrix, the $i$th row represents the $i$th document/email, and the $j$th column represents\n",
    "the $j$th distinct token. Thus, the $(i, j)$th entry of this matrix represents the number of occurrences of the $j$th token in the $i$th document.\n",
    "\n",
    "For this problem, we chose the set of tokens (also called a *vocabulary*) to only contain the medium frequency tokens, as the tokens that occur too often or too rarely do not have much classiﬁcation value. (Examples: tokens that occur very often are terms like “the,” “and,” and “of,” which occur in any spam and non-spam emails.) Also, terms were stemmed using a standard stemming algorithm; basically, this means that “price,” “prices” and “priced” have all been replaced with “price,” so that they can be treated as the same token. For a list of the tokens used, see the ﬁle *TOKENS_LIST.txt* in the *samples\\_FYI* folder. \n",
    "\n",
    "Run the code below to read document-term matrix, the correct class labels for all emails, and the full list of tokens."
   ]
  },
  {
   "cell_type": "markdown",
   "id": "71791b4f-4ff5-4be3-9d74-4fbe4ba9f906",
   "metadata": {},
   "source": [
    "We will first load the train and the test set accordingly:"
   ]
  },
  {
   "cell_type": "code",
   "execution_count": 96,
   "id": "24306d7e-6573-4097-9a5d-365c78146d57",
   "metadata": {},
   "outputs": [],
   "source": [
    "import os\n",
    "import json\n",
    "def readMatrix(file_name):\n",
    "    loaded_data = []\n",
    "    with open(file_name, 'r', encoding='utf-8') as f:\n",
    "            for line in f:\n",
    "                loaded_data.append(json.loads(line))\n",
    "    res = {}\n",
    "    for subkey in loaded_data[0]:\n",
    "            res[subkey] = np.array(loaded_data[0][subkey])\n",
    "    return res\n",
    "        \n",
    "data = {}\n",
    "for label in ['train', 'test']:\n",
    "    filename = f\"./data/q4_data/{label}.json\"\n",
    "    if not os.path.exists(filename):\n",
    "        raise FileNotFoundError(filename)\n",
    "    else:\n",
    "        data[label] = readMatrix(filename)\n",
    "        "
   ]
  },
  {
   "cell_type": "markdown",
   "id": "5ea508bc-7104-437f-bdbc-eb8858c160bd",
   "metadata": {},
   "source": [
    "## Training a naive Bayes classifier\n",
    "\n",
    "First of all, we want to train a naive Bayes classifier based on the train set of the data. Here, we will use the **Multinomial Event Model** with **Laplace smoothing** as we covered in Lecture 6. <span class=\"instruction\">Please implement the `train_naive_bayes` function in `naive_bayes_spam.py` accordingly.</span>"
   ]
  },
  {
   "cell_type": "code",
   "execution_count": 97,
   "id": "fa3af43c-bc55-4c6d-9399-50802d68ce80",
   "metadata": {},
   "outputs": [
    {
     "name": "stdout",
     "output_type": "stream",
     "text": [
      "Looks good to go\n"
     ]
    }
   ],
   "source": [
    "from naive_bayes_spam import train_naive_bayes\n",
    "import numpy as np\n",
    "\n",
    "mu_spam = None\n",
    "mu_non_spam = None\n",
    "phi = 0.0\n",
    "np.random.seed(0)\n",
    "\n",
    "mu_spam, mu_non_spam, phi = train_naive_bayes(np.array(data['train']['doc_vocab_matrix']), \n",
    "                                             np.array(data['train']['category']))\n",
    "epsilon = 1e-5\n",
    "if mu_spam is None:\n",
    "    raise Exception('Please check your \"train_naive_bayes\" function')\n",
    "if mu_non_spam is None:\n",
    "    raise Exception('Please check your \"train_naive_bayes\" function')\n",
    "if np.any(mu_spam == 0):\n",
    "    raise Exception('Do not forget to apply Laplace smoothing on SPAM mails')\n",
    "if np.any(mu_non_spam == 0):\n",
    "    raise Exception('Do not forget to apply Laplace smoothing on Non-SPAM mails')\n",
    "if (abs(1 - np.sum(mu_spam)) > epsilon):\n",
    "    raise Exception('Your SPAM outcome may have some errors')\n",
    "if (abs(1 - np.sum(mu_non_spam)) > epsilon):\n",
    "    raise Exception('Your Non-SPAM outcome may have some errors')\n",
    "if phi == 0:\n",
    "    raise Exception('maybe you forget to update phi')\n",
    "\n",
    "print('Looks good to go')"
   ]
  },
  {
   "cell_type": "markdown",
   "id": "991f69e2-e02c-4295-b8d0-6a1f8723625c",
   "metadata": {},
   "source": [
    "## Test a pretrained naive Bayes classifier\n",
    "\n",
    "Based on the mu and phi, we can classify the test emails. <span class=\"instruction\">Our goal is to implement the test script `test_naive_bayes` in `naive_bayes_spam.py`.</span> If you implement maive Bayes in the straightforward way, you'll note that the computed $p(\\mathbf{x}|y)=\\prod_{j}p(x_{j}|y)$ often equals zero. This is because $p(\\mathbf{x}|y)$, which is the product of many numbers less than one, can be a very small number. The standard computer representation of real numbers (IEEE 754) cannot handle numbers that are too small, and instead rounds them off to zero. You'll have to find a way to compute Naive Bayes' predicted class labels without explicitly representing very small numbers such as $p(\\mathbf{x}|y)$. Once you are done with implementing the test function, a correct implementation will have less than 2% error.\n"
   ]
  },
  {
   "cell_type": "code",
   "execution_count": 98,
   "id": "0ac8ca8b-ff70-4149-9e34-94c8e0f44dd0",
   "metadata": {},
   "outputs": [
    {
     "name": "stdout",
     "output_type": "stream",
     "text": [
      "Looks reasonable\n",
      "Accuracy: 98.3750%\n"
     ]
    }
   ],
   "source": [
    "from naive_bayes_spam import test_naive_bayes\n",
    "from naive_bayes_spam import evaluate\n",
    "import numpy as np\n",
    "\n",
    "np.random.seed(0)\n",
    "\n",
    "# check the previous cell output\n",
    "assert mu_spam is not None\n",
    "assert mu_non_spam is not None\n",
    "\n",
    "pred = test_naive_bayes(data['test']['doc_vocab_matrix'], mu_spam, mu_non_spam, phi)\n",
    "\n",
    "num_document = data['test']['doc_vocab_matrix'].shape[0]\n",
    "if (np.sum(pred == 1) == num_document) or (np.sum(pred == 0) == num_document):\n",
    "    print('Please make sure to keep probability non-zero')\n",
    "else:\n",
    "    print('Looks reasonable')\n",
    "\n",
    "accuracy = evaluate(pred, data['test']['category'])\n",
    "print(f'Accuracy: {100*accuracy:2.4f}%')"
   ]
  },
  {
   "cell_type": "markdown",
   "id": "911d5f26-52db-4f22-9f5a-2b9b282afeb8",
   "metadata": {},
   "source": [
    "## What are the most indicative tokens of the SPAM\n",
    "\n",
    "Based on what we get, we would like to know which tokens are most indicative of SPAM. <span class=\"instruction\">Your goal is to return the top_n token from `get_indicative_tokens` in `naive_bayes_spam.py`. </span> Here is an example of finding the 5 tokens that have the highest positive value on the measure above."
   ]
  },
  {
   "cell_type": "code",
   "execution_count": 99,
   "id": "5df36c8f-63cf-45ad-ba99-df8e95d08305",
   "metadata": {},
   "outputs": [
    {
     "name": "stdout",
     "output_type": "stream",
     "text": [
      "Top 5 most indicative tokens are: ['httpaddr' 'spam' 'unsubscrib' 'ebai' 'valet'].\n"
     ]
    }
   ],
   "source": [
    "from naive_bayes_spam import get_indicative_tokens\n",
    "import numpy as np\n",
    "\n",
    "np.random.seed(0)\n",
    "\n",
    "# check the previous cell output\n",
    "assert mu_spam is not None\n",
    "assert mu_non_spam is not None\n",
    "\n",
    "idx_list = get_indicative_tokens(mu_spam, mu_non_spam, 5)\n",
    "\n",
    "print(f'Top 5 most indicative tokens are: {data[\"test\"][\"vocab\"][idx_list]}.')"
   ]
  },
  {
   "cell_type": "markdown",
   "id": "422e5b28-53bd-440e-a440-8a34ec6db252",
   "metadata": {},
   "source": [
    "## Plot the accuracy curve\n",
    "\n",
    "For a deeper analysis of naive Bayes, we train multiple naive Bayes classifiers with different training sets `MATRIX.TRAIN.*`. We will then evaluate the classifiers with `MATRIX.TEST` and measure the classification accuracy for each classifier. Which training set size gives you the best classification performance?"
   ]
  },
  {
   "cell_type": "code",
   "execution_count": 100,
   "id": "efeb1e1b-4252-406a-a839-f12ba45e2da1",
   "metadata": {},
   "outputs": [
    {
     "name": "stdout",
     "output_type": "stream",
     "text": [
      "(50, 1448)\n",
      "Accuracy for 50 mail data (data/q4_data/MATRIX.TRAIN.50): 96.1250%\n",
      "(100, 1448)\n",
      "Accuracy for 100 mail data (data/q4_data/MATRIX.TRAIN.100): 97.3750%\n",
      "(200, 1448)\n",
      "Accuracy for 200 mail data (data/q4_data/MATRIX.TRAIN.200): 97.3750%\n",
      "(400, 1448)\n",
      "Accuracy for 400 mail data (data/q4_data/MATRIX.TRAIN.400): 98.1250%\n",
      "(800, 1448)\n",
      "Accuracy for 800 mail data (data/q4_data/MATRIX.TRAIN.800): 98.2500%\n",
      "(1400, 1448)\n",
      "Accuracy for 1400 mail data (data/q4_data/MATRIX.TRAIN.1400): 98.3750%\n"
     ]
    }
   ],
   "source": [
    "from naive_bayes_spam import train_naive_bayes\n",
    "from naive_bayes_spam import test_naive_bayes\n",
    "from naive_bayes_spam import evaluate\n",
    "import numpy as np\n",
    "\n",
    "np.random.seed(0)\n",
    "train_sizes = np.array([50, 100, 200, 400, 800, 1400])\n",
    "accuracy_list = np.zeros(train_sizes.shape, dtype=np.float32)\n",
    "for i, train_size in enumerate(train_sizes):\n",
    "    matrices = readMatrix(f'data/q4_data/trian{train_size}.json')\n",
    "    new_doc_vocab_matrix, new_category, new_vocab = matrices['doc_vocab_matrix'], matrices['category'], matrices['vocab']\n",
    "    print(new_doc_vocab_matrix.shape)\n",
    "    new_mu_spam, new_mu_non_spam, new_phi = train_naive_bayes(new_doc_vocab_matrix, new_category)\n",
    "    new_pred = test_naive_bayes(data['test']['doc_vocab_matrix'], new_mu_spam, new_mu_non_spam, new_phi)\n",
    "    accuracy_list[i] = evaluate(new_pred, data['test']['category'])\n",
    "    print(f'Accuracy for {train_size} mail data (data/q4_data/MATRIX.TRAIN.{train_size}): {100 * accuracy_list[i]:2.4f}%')"
   ]
  },
  {
   "cell_type": "markdown",
   "id": "c01d8903-f849-42e3-8a27-fe5273655a89",
   "metadata": {},
   "source": [
    "Let's plot a accuracy curve with respect to size of training sets. "
   ]
  },
  {
   "cell_type": "code",
   "execution_count": 107,
   "id": "f1d97ac6-f54a-4580-8e4b-96ac56db3f42",
   "metadata": {},
   "outputs": [
    {
     "data": {
      "image/png": "[encoded data removed]",
      "text/plain": [
       "<Figure size 700x600 with 1 Axes>"
      ]
     },
     "metadata": {},
     "output_type": "display_data"
    }
   ],
   "source": [
    "fig, ax = plt.subplots(figsize=(7, 6))\n",
    "\n",
    "ax.grid()\n",
    "ax.plot(train_sizes, accuracy_list * 100)\n",
    "ax.set_xlabel('Training Size')\n",
    "ax.set_ylabel('Test Accuracy (%)')\n",
    "fig.savefig('naive_bayes_spam.png', dpi=256)\n",
    "# fig.savefig('naive_bayes_spam.png')"
   ]
  },
  {
   "cell_type": "code",
   "execution_count": null,
   "id": "b16d3147-4175-4719-a0ae-68d6f0fe1f8c",
   "metadata": {},
   "outputs": [],
   "source": []
  }
 ],
 "metadata": {
  "kernelspec": {
   "display_name": "Python 3 (ipykernel)",
   "language": "python",
   "name": "python3"
  },
  "language_info": {
   "codemirror_mode": {
    "name": "ipython",
    "version": 3
   },
   "file_extension": ".py",
   "mimetype": "text/x-python",
   "name": "python",
   "nbconvert_exporter": "python",
   "pygments_lexer": "ipython3",
   "version": "3.11.7"
  },
  "vscode": {
   "interpreter": {
    "hash": "f232669c2e04b23670be892bc0b3217ab3132052eea968fe71558944650d82a8"
   }
  }
 },
 "nbformat": 4,
 "nbformat_minor": 5
}
