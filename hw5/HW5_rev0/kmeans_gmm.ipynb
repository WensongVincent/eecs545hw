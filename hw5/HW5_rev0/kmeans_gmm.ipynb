{
 "cells": [
  {
   "cell_type": "markdown",
   "id": "0aa9a14d-c7dc-460e-8ff0-6d9cf0484dea",
   "metadata": {},
   "source": [
    "# EECS 545 (WN 2023) Homework 5: K-Means and GMM for Image Compression\n",
    "\n",
    "<span class=\"instruction\">Before starting the assignment, please fill in the following cell.</span>"
   ]
  },
  {
   "cell_type": "code",
   "execution_count": null,
   "id": "ba754689-0595-4425-94b8-a4cd1ff01c23",
   "metadata": {},
   "outputs": [],
   "source": [
    "###################################################################\n",
    "# Enter your first and last name, e.g. \"John Doe\"                 #\n",
    "# for example                                                     #\n",
    "# __NAME__ = \"Jongwook Choi\"                                      #\n",
    "# __UNIQID__ = \"jwook\"                                            #\n",
    "###################################################################\n",
    "raise NotImplementedError(\"TODO: Add your implementation here.\")\n",
    "###################################################################\n",
    "#                        END OF YOUR CODE                         #\n",
    "###################################################################\n",
    "\n",
    "print(f\"Your name and email: {__NAME__} <{__UNIQID__}@umich.edu>\")\n",
    "assert __NAME__ and __UNIQID__"
   ]
  },
  {
   "cell_type": "markdown",
   "id": "67476710-a1b1-455b-84e5-a62509a799aa",
   "metadata": {},
   "source": [
    "## Setup code\n",
    "\n",
    "Before getting started, we need to run some boilerplate code to set up our environment. You'll need to rerun this setup code each time you start the notebook. Let's start by checking whether we are using Python 3.10 or higher."
   ]
  },
  {
   "cell_type": "code",
   "execution_count": null,
   "id": "fb8b26d4-2d29-4dba-86e0-58cf11c46514",
   "metadata": {},
   "outputs": [],
   "source": [
    "import sys\n",
    "if sys.version_info[0] < 3:\n",
    "    raise Exception(\"You must use Python 3\")\n",
    "\n",
    "if sys.version_info[1] < 11:\n",
    "    print(\"Autograder will execute your code based on Python 3.11 environment. Please use Python 3.11 or higher to prevent any issues\")\n",
    "    print(\"You can create a conda environment with Python 3.11 like 'conda create --name eecs545 python=3.11'\")\n",
    "    raise Exception(\"Python 3 version is too low: {}\".format(sys.version))\n",
    "else:\n",
    "    print(\"You are good to go\")"
   ]
  },
  {
   "cell_type": "markdown",
   "id": "08fd4321-2c5a-4e02-93fe-ec894dc1a204",
   "metadata": {},
   "source": [
    "First, run this cell load the [autoreload](https://ipython.readthedocs.io/en/stable/config/extensions/autoreload.html) extension. This allows us to edit `.py` source files, and re-import them into the notebook for a seamless editing and debugging experience."
   ]
  },
  {
   "cell_type": "code",
   "execution_count": null,
   "id": "cbaabb22-e867-4e05-80db-55c1351d7de7",
   "metadata": {},
   "outputs": [],
   "source": [
    "%load_ext autoreload\n",
    "%autoreload 2"
   ]
  },
  {
   "cell_type": "code",
   "execution_count": null,
   "id": "1b36fc52-b08f-4665-8bb9-556a9095a907",
   "metadata": {
    "tags": []
   },
   "outputs": [],
   "source": [
    "!pip install numpy matplotlib imageio\n",
    "\n",
    "# import libraries\n",
    "import math\n",
    "import numpy as np\n",
    "import matplotlib\n",
    "import matplotlib.pyplot as plt\n",
    "import imageio\n",
    "\n",
    "# set figure size\n",
    "plt.rcParams['figure.figsize'] = (5.0, 4.0)\n",
    "plt.rcParams['font.size'] = 10\n",
    "%config InlineBackend.figure_format = 'retina'"
   ]
  },
  {
   "cell_type": "code",
   "execution_count": null,
   "id": "359f7eb8-4847-4536-b511-fa4eb5e6a9a7",
   "metadata": {},
   "outputs": [],
   "source": [
    "from IPython.display import display_html, HTML\n",
    "\n",
    "display_html(HTML('''\n",
    "<style type=\"text/css\">\n",
    "  .instruction { background-color: yellow; font-weight:bold; padding: 3px; }\n",
    "</style>\n",
    "'''));"
   ]
  },
  {
   "cell_type": "code",
   "execution_count": null,
   "id": "5524207d-a1ae-43c2-800a-81a8385f458d",
   "metadata": {},
   "outputs": [],
   "source": [
    "import kmeans\n",
    "import gmm\n",
    "\n",
    "# should print \"Hello from ...\"\n",
    "kmeans.hello()\n",
    "gmm.hello()"
   ]
  },
  {
   "cell_type": "markdown",
   "id": "15bd42d9-26ef-4a5a-a79f-debd5fc75e3f",
   "metadata": {},
   "source": [
    "## Sample Image"
   ]
  },
  {
   "cell_type": "markdown",
   "id": "17894c09-16ff-4f41-833c-c6f10eba3fe1",
   "metadata": {},
   "source": [
    "Out of curiosity, let's take a look at the sample image provided."
   ]
  },
  {
   "cell_type": "code",
   "execution_count": null,
   "id": "a2bc20dc-8c1f-4e5d-9898-18ebdea49ff9",
   "metadata": {},
   "outputs": [],
   "source": [
    "img_small = np.array(imageio.v3.imread('data/mandrill-small.tiff')) # 128 x 128 x 3\n",
    "#plt.imshow(img_small)\n",
    "img_small.shape"
   ]
  },
  {
   "cell_type": "code",
   "execution_count": null,
   "id": "f94a321f-a827-4a39-827f-f1f6d59889c7",
   "metadata": {},
   "outputs": [],
   "source": [
    "img_large = np.array(imageio.v3.imread('data/mandrill-large.tiff')) # 512 x 512 x 3\n",
    "plt.imshow(img_large)\n",
    "img_large.shape"
   ]
  },
  {
   "cell_type": "markdown",
   "id": "3dc793ca-be39-42bf-8037-316172953f64",
   "metadata": {},
   "source": [
    "Note that the small image becomes our training data and the large image our test data."
   ]
  },
  {
   "cell_type": "code",
   "execution_count": null,
   "id": "3f2ce309-d478-43ca-a122-0db10637f98c",
   "metadata": {},
   "outputs": [],
   "source": [
    "ndim = img_small.shape[-1]\n",
    "train_data = img_small.reshape(-1, ndim).astype(float)\n",
    "test_data = img_large.reshape(-1, ndim).astype(float)"
   ]
  },
  {
   "cell_type": "markdown",
   "id": "c2106b71-b30f-4881-8cbf-a2fd5b5dc800",
   "metadata": {},
   "source": [
    "# Part 1. K-means"
   ]
  },
  {
   "cell_type": "markdown",
   "id": "2b123842-8804-4e55-96c7-8929db7410fa",
   "metadata": {},
   "source": [
    "<span class=\"instruction\">Now implement `kmeans.train_kmeans()` function.</span> \n",
    "\n",
    "The following code runs the K-means algorithm on the provided sample image. The code will run quite fast (less than only few seconds) if your implementation is efficient enough. Especially, when it comes to computing distances, naive for loops might make the code quite slow (in which case you will lose small points); some sort of vectorization will be needed to fully pass the Autograder test cases without timeout."
   ]
  },
  {
   "cell_type": "code",
   "execution_count": null,
   "id": "d5e69647-a93c-42b7-be3b-9bf3fb83d0a4",
   "metadata": {},
   "outputs": [],
   "source": [
    "%%time\n",
    "\n",
    "# K-means\n",
    "num_centroid = 16\n",
    "initial_centroid_indices = [\n",
    "    16141, 15086, 15419,  3018,  5103,  6545, 15299, 11460,\n",
    "    1006,  11603, 11095,  6257, 15220, 10027, 11411, 13403,\n",
    "]\n",
    "initial_centroids = train_data[initial_centroid_indices, :]\n",
    "centroids = kmeans.train_kmeans(train_data, initial_centroids)"
   ]
  },
  {
   "cell_type": "code",
   "execution_count": null,
   "id": "8941039a-f5b4-4bc8-8068-4cafbbd09b0c",
   "metadata": {},
   "outputs": [],
   "source": [
    "# print(centroids)"
   ]
  },
  {
   "cell_type": "markdown",
   "id": "5cc7a303-87e7-4b2e-ab6f-7066a0804113",
   "metadata": {
    "tags": []
   },
   "source": [
    "## Visualization"
   ]
  },
  {
   "cell_type": "markdown",
   "id": "7926ffea-9a5e-4522-9ddb-90e775797103",
   "metadata": {},
   "source": [
    "If you implemented K-means clusetering successfully, we can visualize the result of K-means clustering (the 16 centroids) on this dataset:"
   ]
  },
  {
   "cell_type": "code",
   "execution_count": null,
   "id": "ced86532-ab5e-4aa3-af65-dd8b50d0e8fa",
   "metadata": {},
   "outputs": [],
   "source": [
    "def visualize_3d(data, clusters):\n",
    "    fig, axes = plt.subplots(1, 2, figsize=(7, 3), subplot_kw={'projection': '3d', 'proj_type': 'ortho'})\n",
    "\n",
    "    # Data points\n",
    "    axes[0].scatter(data[:, 0], data[:, 1], data[:, 2], c=data[:, :] / 255.0, s=1.0)\n",
    "    axes[0].set(xlabel=\"R\", ylabel=\"G\", zlabel=\"B\");\n",
    "    axes[0].set(xlim=(0,255), ylim=(0,255), zlim=(0,255))\n",
    "    \n",
    "    # Cluster centroids\n",
    "    axes[1].scatter(clusters[:, 0], clusters[:, 1], clusters[:, 2], c=clusters[:, :] / 255.0, s=30)\n",
    "    axes[1].set(xlabel=\"R\", ylabel=\"G\", zlabel=\"B\");\n",
    "    axes[1].set(xlim=(0,255), ylim=(0,255), zlim=(0,255))\n",
    "\n",
    "    fig.tight_layout()\n",
    "    return fig, axes\n",
    "\n",
    "\n",
    "def animate(fig, axes):\n",
    "    from IPython.display import HTML\n",
    "    import matplotlib.animation\n",
    "\n",
    "    num_frames = 50\n",
    "    def animate_fn(i):\n",
    "        print(f'#{i}', end='\\n' if (i + 1) % 10 == 0 else ' ', flush=True)\n",
    "        axes[0].view_init(30, np.linspace(-179, 179, num_frames)[i])\n",
    "        axes[1].view_init(30, np.linspace(-179, 179, num_frames)[i])\n",
    "\n",
    "    anim = matplotlib.animation.FuncAnimation(fig, animate_fn, frames=num_frames, interval=200)\n",
    "    return HTML(anim.to_html5_video())\n",
    "\n",
    "\n",
    "fig, axes = visualize_3d(train_data, centroids)"
   ]
  },
  {
   "cell_type": "markdown",
   "id": "78940944-4612-4d68-a2a3-9b36b2599b38",
   "metadata": {},
   "source": [
    "Or as an animation: (Warning: this is pretty slow, so feel free to skip if it's time consuming)"
   ]
  },
  {
   "cell_type": "code",
   "execution_count": null,
   "id": "03925f36-f60d-49e6-a0c3-75ff444eb2fe",
   "metadata": {},
   "outputs": [],
   "source": [
    "# Feel free to skip this cell\n",
    "# This may require you to install ffmpeg\n",
    "# This link may be helpful https://stackoverflow.com/questions/13316397/matplotlib-animation-no-moviewriters-available\n",
    "animate(fig, axes)"
   ]
  },
  {
   "cell_type": "markdown",
   "id": "0bef7876-e2ca-429b-936e-eb6563abde86",
   "metadata": {},
   "source": [
    "## Test: Compression"
   ]
  },
  {
   "cell_type": "markdown",
   "id": "6decb6f3-a8de-40b5-b170-760388f5534b",
   "metadata": {},
   "source": [
    "Now we will apply the clustering result to the test image.\n",
    "\n",
    "<span class=\"instruction\">Implement a function `kmeans.compress_image()`</span> which takes a RGB image and a K-means clustering result as input, and returns a compressed image by replacing each pixel with the closest cluster's centroid."
   ]
  },
  {
   "cell_type": "markdown",
   "id": "393ffe0b-2826-412f-85d4-d52dc5afb8a2",
   "metadata": {},
   "source": [
    "We will draw the original image (either `img_small` or `img_large`) and the compressed one side-by-side. If you implemented correctly, the images will look pretty similar."
   ]
  },
  {
   "cell_type": "code",
   "execution_count": null,
   "id": "37b9c193-851c-4dba-9b66-900737db71bf",
   "metadata": {},
   "outputs": [],
   "source": [
    "img_compressed = kmeans.compress_image(img_small, centroids)\n",
    "\n",
    "fig, axes = plt.subplots(1, 2, figsize=(9, 4))\n",
    "axes[0].imshow(img_small)\n",
    "axes[0].set_title(\"Original Image\")\n",
    "\n",
    "axes[1].imshow(img_compressed)\n",
    "axes[1].set_title(\"Compressed by K-Means\")\n",
    "fig.tight_layout()"
   ]
  },
  {
   "cell_type": "code",
   "execution_count": null,
   "id": "670b7c69-2d96-4234-a7bb-1fdd72e284aa",
   "metadata": {},
   "outputs": [],
   "source": [
    "img_compressed = kmeans.compress_image(img_large, centroids)\n",
    "\n",
    "fig, axes = plt.subplots(1, 2, figsize=(9, 4))\n",
    "axes[0].imshow(img_large)\n",
    "axes[0].set_title(\"Original Image\")\n",
    "\n",
    "axes[1].imshow(img_compressed)\n",
    "axes[1].set_title(\"Compressed by K-Means\")\n",
    "fig.tight_layout()"
   ]
  },
  {
   "cell_type": "markdown",
   "id": "fb9da969-c160-4f8c-a841-a117642ad034",
   "metadata": {},
   "source": [
    "<span class=\"instruction\">Compute and measure the (mean) pixel error.</span> Report this value to the write-up."
   ]
  },
  {
   "cell_type": "code",
   "execution_count": null,
   "id": "3637da03-bc68-4d93-be07-e1b77983135f",
   "metadata": {},
   "outputs": [],
   "source": [
    "raise NotImplementedError(\"TODO: Add your implementation here.\")"
   ]
  },
  {
   "cell_type": "markdown",
   "id": "c17fd4a4-3964-4826-b91b-4e3fbaa96a30",
   "metadata": {},
   "source": [
    "<br/><br/><br/><br/><br/><br/><br/><br/><br/>"
   ]
  },
  {
   "cell_type": "markdown",
   "id": "d5384213-ba4e-4c2b-898b-8ffabe35007c",
   "metadata": {},
   "source": [
    "# Part 2. GMM"
   ]
  },
  {
   "cell_type": "markdown",
   "id": "db76a3d7-0b02-411f-bfad-5cd01f382501",
   "metadata": {},
   "source": [
    "Now let's work on fitting GMM model with EM algorithm.\n",
    "\n",
    "<span class=\"instruction\">Implement gmm.train_gmm()</span>; and you can use the following code to run training on the mandrill dataset. The code should run quite fast (less than a second) if your implementation is efficient enough. Note that some sort of vectorization will be needed to fully pass the Autograder test cases without timeout."
   ]
  },
  {
   "cell_type": "code",
   "execution_count": null,
   "id": "338856c9-c623-4ec3-b38a-da4dc585eb6e",
   "metadata": {
    "tags": []
   },
   "outputs": [],
   "source": [
    "# Initialize pi, mu, sigmanum_centroid = 5\n",
    "initial_mu_indices = [16041, 15086, 15419,  3010,  5845]\n",
    "num_mixtures = 5\n",
    "\n",
    "init_pi = np.ones((num_mixtures)) / num_mixtures\n",
    "init_mu = train_data[initial_mu_indices, :]\n",
    "init_sigma = np.tile(np.identity(ndim), [num_mixtures, 1, 1]) * 1000.\n",
    "\n",
    "gmm_model = gmm.train_gmm(train_data, init_pi, init_mu, init_sigma)\n",
    "pi, mu, sigma = gmm_model\n",
    "\n",
    "assert pi.shape == (5, )\n",
    "assert mu.shape == (5, 3)\n",
    "assert sigma.shape == (5, 3, 3)"
   ]
  },
  {
   "cell_type": "markdown",
   "id": "0dcb98ff-e769-4009-89f9-42f34104b42e",
   "metadata": {},
   "source": [
    "You can print out the model parameters:"
   ]
  },
  {
   "cell_type": "code",
   "execution_count": null,
   "id": "ae904283-3fa8-4e74-acaa-7a7f54e121d1",
   "metadata": {},
   "outputs": [],
   "source": [
    "np.set_printoptions(precision=2)\n",
    "\n",
    "print(f\"{pi = }\")\n",
    "print(f\"{mu = }\")\n",
    "print(f\"{sigma = }\")"
   ]
  },
  {
   "cell_type": "markdown",
   "id": "2d91347d-1abb-4327-b358-218d93b1928e",
   "metadata": {
    "tags": []
   },
   "source": [
    "## Visualization"
   ]
  },
  {
   "cell_type": "markdown",
   "id": "b4737549-0be6-4a0f-8754-7cb1bcb67a87",
   "metadata": {},
   "source": [
    "We can reuse the visualization code. In addition, we can visualize the covariance matrix as well!\n",
    "\n",
    "Try to see if the above parameters of a GMM agree with the plot below:"
   ]
  },
  {
   "cell_type": "code",
   "execution_count": null,
   "id": "766901e1-62e7-4f9f-bc81-8ebe91a7b4b8",
   "metadata": {},
   "outputs": [],
   "source": [
    "fig, axes = visualize_3d(train_data, mu)\n",
    "fig.legend(\n",
    "    [matplotlib.lines.Line2D([0], [0], color=mu_k/255.0) for mu_k in list(mu)],\n",
    "    [f\"π_{k} = {pi[k]:.3f},  μ_{k} = {mu[k]}\" for k in range(mu.shape[0])],\n",
    "    loc='center left', bbox_to_anchor=(1.05, 0.5)\n",
    ")\n",
    "\n",
    "for k in range(mu.shape[0]):\n",
    "    covariance = sigma[k]\n",
    "    \n",
    "    # Use eigendecomposition to draw the 3D ellipsoid\n",
    "    U, S, V = np.linalg.svd(covariance)\n",
    "    u = np.linspace(0.0, 2.0 * np.pi, 50)\n",
    "    v = np.linspace(0.0, np.pi, 50)\n",
    "    # x, y, z on the principle axes with radius being sqrt{eigenvalue}\n",
    "    x = (np.sqrt(S[0])) * np.outer(np.cos(u), np.sin(v))\n",
    "    y = (np.sqrt(S[1])) * np.outer(np.sin(u), np.sin(v))\n",
    "    z = (np.sqrt(S[2])) * np.outer(np.ones_like(u), np.cos(v))\n",
    "    # Rotation\n",
    "    xyz = np.stack([x, y, z], axis=2) @ U.T  # [50, 50, 3] * [3, 3]\n",
    "    # Translation (centered at mu[k])\n",
    "    xyz += mu[k, :][np.newaxis, np.newaxis, :]\n",
    "    axes[1].plot_surface(xyz[:, :, 0], xyz[:, :, 1], xyz[:, :, 2], \n",
    "                         shade=True, alpha=0.5, color=mu[k] / 255.0)"
   ]
  },
  {
   "cell_type": "code",
   "execution_count": null,
   "id": "a61205dd-01e8-4c6e-85a2-1c1b959e6c8a",
   "metadata": {},
   "outputs": [],
   "source": [
    "# Pretty slow again ... feel free to skip\n",
    "animate(fig, axes)"
   ]
  },
  {
   "cell_type": "markdown",
   "id": "720464a3-f82e-4ff9-b666-52a9ed89ea97",
   "metadata": {},
   "source": [
    "## Test: Image Compression"
   ]
  },
  {
   "cell_type": "markdown",
   "id": "e679ac14-af8f-4ff4-a46c-89bef389ec67",
   "metadata": {},
   "source": [
    "Now we will apply the clustering result to the test image.\n",
    "\n",
    "<span class=\"instruction\">Implement a function `gmm.compress_image()`</span> which takes a RGB image and a K-means clustering result as input, and returns a compressed image by replacing each pixel with the mean value of the closest cluster (or with the maximum probability). Please add additional cells to compute and report the mean pixel error between the original and compressed image."
   ]
  },
  {
   "cell_type": "code",
   "execution_count": null,
   "id": "beb6ee11-d14d-4608-92f6-d64ec97960e3",
   "metadata": {},
   "outputs": [],
   "source": [
    "img_compressed = gmm.compress_image(img_large, gmm_model)\n",
    "\n",
    "fig, axes = plt.subplots(1, 2, figsize=(9, 4))\n",
    "axes[0].imshow(img_large)\n",
    "axes[0].set_title(\"Original Image\")\n",
    "\n",
    "axes[1].imshow(img_compressed)\n",
    "axes[1].set_title(\"Compressed by GMM (hard assignment); K=5\")\n",
    "fig.tight_layout()"
   ]
  },
  {
   "cell_type": "code",
   "execution_count": null,
   "id": "41ca4f04-d885-4149-b142-aeb96419f8e6",
   "metadata": {},
   "outputs": [],
   "source": []
  },
  {
   "cell_type": "markdown",
   "id": "91ab7864-943d-4444-b116-206fa73eba0d",
   "metadata": {},
   "source": [
    "### GMM with K = 16?"
   ]
  },
  {
   "cell_type": "markdown",
   "id": "d1648d8d-0759-4114-884e-318dc8665596",
   "metadata": {},
   "source": [
    "Let's repeat this process again with K = 16. How would you compare the result from K-means with the same number of clusters?"
   ]
  },
  {
   "cell_type": "code",
   "execution_count": null,
   "id": "e68923f0-e4dd-4e88-83e3-b89498972b9b",
   "metadata": {
    "tags": []
   },
   "outputs": [],
   "source": [
    "# Initialize pi, mu, sigma (K = 16)\n",
    "initial_mu_indices = np.random.RandomState(545).choice(train_data.shape[0], size=16, replace=False)\n",
    "\n",
    "init_pi = np.ones(len(initial_mu_indices)) / num_mixtures\n",
    "init_mu = train_data[initial_mu_indices, :]\n",
    "init_sigma = np.tile(np.identity(ndim), [len(initial_mu_indices), 1, 1]) * 1000.\n",
    "\n",
    "gmm_model_16 = gmm.train_gmm(train_data, init_pi, init_mu, init_sigma)"
   ]
  },
  {
   "cell_type": "code",
   "execution_count": null,
   "id": "f5358165-8a97-463b-964d-7bf0404f8825",
   "metadata": {},
   "outputs": [],
   "source": [
    "img_compressed_16 = gmm.compress_image(img_large, gmm_model_16)\n",
    "\n",
    "fig, axes = plt.subplots(1, 2, figsize=(9, 4))\n",
    "axes[0].imshow(img_large)\n",
    "axes[0].set_title(\"Original Image\")\n",
    "\n",
    "axes[1].imshow(img_compressed_16)\n",
    "axes[1].set_title(\"Compressed by GMM (hard assignment); K=16\")\n",
    "fig.tight_layout()"
   ]
  },
  {
   "cell_type": "markdown",
   "id": "a8c7026d-53f4-48d6-a932-a303f702e013",
   "metadata": {},
   "source": [
    "You are now all set!"
   ]
  }
 ],
 "metadata": {
  "kernelspec": {
   "display_name": "Python 3 (ipykernel)",
   "language": "python",
   "name": "python3"
  },
  "language_info": {
   "codemirror_mode": {
    "name": "ipython",
    "version": 3
   },
   "file_extension": ".py",
   "mimetype": "text/x-python",
   "name": "python",
   "nbconvert_exporter": "python",
   "pygments_lexer": "ipython3",
   "version": "3.11.7"
  }
 },
 "nbformat": 4,
 "nbformat_minor": 5
}
